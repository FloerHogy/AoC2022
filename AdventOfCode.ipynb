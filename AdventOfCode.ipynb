{
 "cells": [
  {
   "cell_type": "markdown",
   "id": "a607a370-22a2-4df3-affa-e13e28286b10",
   "metadata": {},
   "source": [
    "**DAY 1**"
   ]
  },
  {
   "cell_type": "code",
   "execution_count": 127,
   "id": "7131739c-f951-4119-bf37-d46a80291fb0",
   "metadata": {},
   "outputs": [
    {
     "name": "stdout",
     "output_type": "stream",
     "text": [
      "(67658, 215)\n"
     ]
    }
   ],
   "source": [
    "#Convertir les datas brutes en liste de liste pour chaque elfe\n",
    "\n",
    "my_file = open(\"datas_J1.txt\", \"r\")\n",
    "  \n",
    "\n",
    "lol = []\n",
    "\n",
    "for line in my_file:\n",
    "\n",
    "  stripped_line = line.strip()\n",
    "\n",
    "  line_list = stripped_line.split()\n",
    "\n",
    "  lol.append(line_list)\n",
    "\n",
    "\n",
    "my_file.close()\n",
    "\n",
    "\n",
    "\n",
    "res = [[]]\n",
    "k=0\n",
    "\n",
    "for i in lol:\n",
    "    if i == []:\n",
    "        res.append([])\n",
    "        k = k+1\n",
    "        \n",
    "    else :\n",
    "        res[k].append(int(i[0]))\n",
    "        \n",
    "#Déterminer l'elfe qui en a le plus et combien\n",
    "\n",
    "def max_elf(l):\n",
    "    c_max=0\n",
    "    k_max=0\n",
    "    k=0\n",
    "    for ll in l:\n",
    "        c= sum(ll)\n",
    "        if c > c_max :\n",
    "            c_max= c\n",
    "            k_max= k\n",
    "        k=k+1\n",
    "    return (c_max,k_max)\n",
    "\n",
    "print(max_elf(res))\n",
    "        \n"
   ]
  },
  {
   "cell_type": "code",
   "execution_count": 128,
   "id": "288f54d9-a948-456e-afaa-edf8bebbf3c6",
   "metadata": {},
   "outputs": [
    {
     "name": "stdout",
     "output_type": "stream",
     "text": [
      "[[67658, 215], [67344, 162], [65156, 220]]\n"
     ]
    }
   ],
   "source": [
    "#Déterminer l'elfe avec le moins de thune parmi ceux déjà enregistrés\n",
    "\n",
    "def min_l(l):\n",
    "    c_min = l[0][0]\n",
    "    k_min = 0\n",
    "    k = 0\n",
    "    for ll in l:\n",
    "        if ll[0] < c_min :\n",
    "            c_min = ll[0]\n",
    "            k_min = k\n",
    "        k = k+1\n",
    "    return ([c_min,k_min])\n",
    "\n",
    "#Trouver les 3 elfes les plus riches\n",
    "\n",
    "def top3_elf(l):\n",
    "    c_max = [[0,0],[0,0],[0,0]]\n",
    "    k=0\n",
    "    for ll in l:\n",
    "        c= sum(ll)\n",
    "        res_int = min_l(c_max)\n",
    "        if c > res_int[0]:\n",
    "            c_max[res_int[1]]= [c,k]\n",
    "        k = k+1\n",
    "    return(c_max)\n",
    "print(top3_elf(res))"
   ]
  },
  {
   "cell_type": "code",
   "execution_count": 129,
   "id": "f344576e-5a25-49fe-a4f1-e4f53dad14e7",
   "metadata": {},
   "outputs": [
    {
     "name": "stdout",
     "output_type": "stream",
     "text": [
      "200158\n"
     ]
    }
   ],
   "source": [
    "print(67658+67344+65156)"
   ]
  },
  {
   "cell_type": "markdown",
   "id": "08e0abfd-81a2-4d10-acdc-d2841a6a6721",
   "metadata": {},
   "source": [
    "**DAY 2**"
   ]
  },
  {
   "cell_type": "code",
   "execution_count": 130,
   "id": "ea1ff845-4fc7-4cd9-9db8-dae85e541e5c",
   "metadata": {},
   "outputs": [
    {
     "name": "stdout",
     "output_type": "stream",
     "text": [
      "13924\n"
     ]
    }
   ],
   "source": [
    "my_fileJ2 = open(\"datas_J2.txt\", \"r\")\n",
    "  \n",
    "\n",
    "lol = []\n",
    "\n",
    "for line in my_fileJ2:\n",
    "\n",
    "  stripped_line = line.strip()\n",
    "\n",
    "  line_list = stripped_line.split()\n",
    "\n",
    "  lol.append(line_list)\n",
    "\n",
    "\n",
    "my_fileJ2.close()\n",
    "\n",
    "\n",
    "\n",
    "def score(l):\n",
    "    if l[0]== 'A':\n",
    "        if l[1] == 'X':\n",
    "            return 4\n",
    "        elif l[1] == 'Y':\n",
    "            return 8\n",
    "        else: return 3\n",
    "    elif l[0] == 'B':\n",
    "        if l[1] == 'X':\n",
    "            return 1\n",
    "        elif l[1] == 'Y':\n",
    "            return 5\n",
    "        else: return 9\n",
    "    else:\n",
    "        if l[1] == 'X':\n",
    "            return 7\n",
    "        elif l[1] == 'Y':\n",
    "            return 2\n",
    "        else: return 6\n",
    "\n",
    "res= 0\n",
    "    \n",
    "for l in lol:\n",
    "    res = res+ score(l)\n",
    "print(res)"
   ]
  },
  {
   "cell_type": "code",
   "execution_count": 131,
   "id": "38ff36e5-5726-4d65-b5a2-8e91f99ddbb8",
   "metadata": {},
   "outputs": [
    {
     "name": "stdout",
     "output_type": "stream",
     "text": [
      "13448\n"
     ]
    }
   ],
   "source": [
    "def score2(l):\n",
    "    if l[0]== 'A':\n",
    "        if l[1] == 'X':\n",
    "            return 3\n",
    "        elif l[1] == 'Y':\n",
    "            return 4\n",
    "        else: return 8\n",
    "    elif l[0] == 'B':\n",
    "        if l[1] == 'X':\n",
    "            return 1\n",
    "        elif l[1] == 'Y':\n",
    "            return 5\n",
    "        else: return 9\n",
    "    else:\n",
    "        if l[1] == 'X':\n",
    "            return 2\n",
    "        elif l[1] == 'Y':\n",
    "            return 6\n",
    "        else: return 7\n",
    "\n",
    "res = 0\n",
    "\n",
    "for l in lol:\n",
    "    res = res+ score2(l)\n",
    "print(res)"
   ]
  },
  {
   "cell_type": "markdown",
   "id": "5ef36b8c-2b79-45eb-ba5c-a99bb11b4d28",
   "metadata": {},
   "source": [
    "**DAY 3**"
   ]
  },
  {
   "cell_type": "code",
   "execution_count": 132,
   "id": "f9b50ef8-5da9-4949-9a30-5d6b24ff75e7",
   "metadata": {},
   "outputs": [
    {
     "name": "stdout",
     "output_type": "stream",
     "text": [
      "7990\n",
      "2602\n"
     ]
    }
   ],
   "source": [
    "my_fileJ3 = open(\"datas_J3.txt\", \"r\")\n",
    "  \n",
    "\n",
    "lol = []\n",
    "\n",
    "for line in my_fileJ3:\n",
    "\n",
    "  stripped_line = line.strip()\n",
    "\n",
    "  line_list = stripped_line.split()\n",
    "\n",
    "  lol.append(line_list)\n",
    "\n",
    "\n",
    "my_fileJ3.close()\n",
    "lll=lol.copy()\n",
    "\n",
    "def split_str(s):\n",
    "    s1= s[:len(s)//2]\n",
    "    s2 = s[len(s)//2:]\n",
    "    res = []\n",
    "    res.append(s1)\n",
    "    res.append(s2)\n",
    "    return res\n",
    "\n",
    "k=0\n",
    "for l in lol:\n",
    "    lol[k] = split_str(l[0])\n",
    "    k=k+1\n",
    "\n",
    "\n",
    "ss=''\n",
    "k=False\n",
    "for l in lol:\n",
    "    for s in l[0]:\n",
    "        if s in l[1] and k==False:\n",
    "            ss = ss + s\n",
    "            k=True\n",
    "    k=  False\n",
    "\n",
    "\n",
    "def compte_points(s):\n",
    "    if ord(s)<=90:\n",
    "        return ord(s)-65 +27\n",
    "    else:\n",
    "        return ord(s)-97+1\n",
    "\n",
    "\n",
    "res = 0\n",
    "\n",
    "for s in ss:\n",
    "    res= res+ compte_points(s)\n",
    "\n",
    "print(res)\n",
    "\n",
    "k=0\n",
    "for l in lll:\n",
    "    lll[k]=l[0]\n",
    "    k = k+1\n",
    "\n",
    "\n",
    "def find_type(l):\n",
    "    for s in l[0]:\n",
    "        if s in l[1] and s in l[2]:\n",
    "            return s\n",
    "sss= ''\n",
    "k=0\n",
    "while k <= len(lll)-3:\n",
    "    sss= sss + find_type(lll[k:k+3])\n",
    "    k= k+3\n",
    "\n",
    "res2=0\n",
    "for s in sss:\n",
    "    res2= res2 + compte_points(s)\n",
    "print(res2)"
   ]
  },
  {
   "cell_type": "markdown",
   "id": "a6b8946b-f38e-4895-8e77-7e1936f5676b",
   "metadata": {},
   "source": [
    "**DAY 4**"
   ]
  },
  {
   "cell_type": "code",
   "execution_count": 134,
   "id": "6bd3e050-04e0-466e-b7d7-1deeb27b5c4c",
   "metadata": {},
   "outputs": [
    {
     "name": "stdout",
     "output_type": "stream",
     "text": [
      "507\n",
      "897\n"
     ]
    }
   ],
   "source": [
    "with open(\"datas_J4.txt\") as f:\n",
    "    l = f.readlines()\n",
    "    lol=[list(map(int,i.strip().replace('-',',').split(','))) for i in l]\n",
    "\n",
    "k=0\n",
    "for l in lol:\n",
    "    if (l[0] <= l[2]) and (l[1]>= l[3]):\n",
    "        k=k+1\n",
    "    elif (l[2]<=l[0]) and (l[3])>= l[1]:\n",
    "        k=k+1\n",
    "print(k)\n",
    "\n",
    "kk=0\n",
    "for l in lol:\n",
    "    if (l[0] <= l[2]) and (l[1]>= l[2]):\n",
    "        kk=kk+1\n",
    "    elif (l[0]<=l[3]) and (l[1])>= l[3]:\n",
    "        kk=kk+1\n",
    "    elif (l[0] >= l[2]) and (l[3]>= l[0]):\n",
    "        kk=kk+1\n",
    "    elif (l[1]>=l[2]) and (l[3])>= l[1]:\n",
    "        kk=kk+1\n",
    "print(kk)"
   ]
  },
  {
   "cell_type": "markdown",
   "id": "04331b3f-efe6-4257-8f71-4a11768b7021",
   "metadata": {},
   "source": [
    "**DAY 5**"
   ]
  },
  {
   "cell_type": "code",
   "execution_count": 194,
   "id": "42c086b2-3a03-4ec4-9cf2-c5aefeb6e37d",
   "metadata": {},
   "outputs": [
    {
     "name": "stdout",
     "output_type": "stream",
     "text": [
      "SBPQRSCDF\n",
      "RGLVRCQSB\n"
     ]
    }
   ],
   "source": [
    "#INPUT 1: Créer une liste de liste dont chaque sous-liste correspond à une colonne\n",
    "\n",
    "with open(\"datas_J5.1.txt\") as f:\n",
    "    l = f.readlines()\n",
    "    lol=[list(i.strip().replace('    ',' [ZZ]').split(' ')) for i in l]\n",
    "\n",
    "\n",
    "input1= [[],[],[],[],[],[],[],[],[]]\n",
    "\n",
    "for ll in lol:\n",
    "    k=0\n",
    "    for i in ll:\n",
    "        if i == '[ZZ]':\n",
    "            k=k+1\n",
    "        else:\n",
    "            input1[k].append(i.strip('[').strip(']'))\n",
    "            k=k+1\n",
    "\n",
    "for l in input1:\n",
    "    l.reverse()\n",
    "\n",
    "\n",
    "#INPUT 2: Transformer les instructions\n",
    "\n",
    "with open(\"datas_J5.2.txt\") as ff:\n",
    "    ll = ff.readlines()\n",
    "    input2=[list(map(int,i.strip().strip('move ').replace(' from ', ',').replace(' to ',',').split(','))) for i in ll]\n",
    "\n",
    "#Les faire bosser    \n",
    "\n",
    "#PART 1\n",
    "for com in input2:\n",
    "    for i in range(com[0]):\n",
    "        input1[com[2]-1].append(input1[com[1]-1][-1])\n",
    "        input1[com[1]-1].pop()\n",
    "\n",
    "s=''\n",
    "for l in input1:\n",
    "    s= s+l[-1]\n",
    "print(s)\n",
    "\n",
    "#PART 2\n",
    "#On commence par réinitialiser les inputs\n",
    "\n",
    "with open(\"datas_J5.1.txt\") as f:\n",
    "    l = f.readlines()\n",
    "    lol=[list(i.strip().replace('    ',' [ZZ]').split(' ')) for i in l]\n",
    "\n",
    "\n",
    "input1= [[],[],[],[],[],[],[],[],[]]\n",
    "\n",
    "for ll in lol:\n",
    "    k=0\n",
    "    for i in ll:\n",
    "        if i == '[ZZ]':\n",
    "            k=k+1\n",
    "        else:\n",
    "            input1[k].append(i.strip('[').strip(']'))\n",
    "            k=k+1\n",
    "\n",
    "for l in input1:\n",
    "    l.reverse()\n",
    "\n",
    "\n",
    "\n",
    "with open(\"datas_J5.2.txt\") as ff:\n",
    "    ll = ff.readlines()\n",
    "    input2=[list(map(int,i.strip().strip('move ').replace(' from ', ',').replace(' to ',',').split(','))) for i in ll]\n",
    "\n",
    "#Time to crane\n",
    "\n",
    "for com in input2:\n",
    "    for i in range(-com[0],0):\n",
    "        input1[com[2]-1].append(input1[com[1]-1][i])\n",
    "        input1[com[1]-1].pop(i)\n",
    "\n",
    "s=''\n",
    "for l in input1:\n",
    "    s= s+l[-1]\n",
    "print(s)"
   ]
  },
  {
   "cell_type": "markdown",
   "id": "f334057d-4a8c-4b0b-8542-9c3274d463b1",
   "metadata": {},
   "source": [
    "**DAY 6**"
   ]
  },
  {
   "cell_type": "code",
   "execution_count": 205,
   "id": "09ed0d0c-b8c1-43bf-ba9c-40b395a42389",
   "metadata": {},
   "outputs": [
    {
     "name": "stdout",
     "output_type": "stream",
     "text": [
      "1623\n",
      "3774\n"
     ]
    }
   ],
   "source": [
    "with open(\"datas_J6.txt\") as f:\n",
    "    l = f.read()\n",
    "res= True\n",
    "k = 0\n",
    "while res :\n",
    "    if len(set([l[k],l[k+1],l[k+2],l[k+3]])) == 4:\n",
    "        res = False\n",
    "    else:\n",
    "        k=k+1\n",
    "print(k+4)\n",
    "\n",
    "res= True\n",
    "k = 0\n",
    "while res :\n",
    "    if len(set(list(l[k:k+14]))) == 14:\n",
    "        res = False\n",
    "    else:\n",
    "        k=k+1\n",
    "print(k+14)\n"
   ]
  },
  {
   "cell_type": "code",
   "execution_count": null,
   "id": "ff400648-e565-4c9b-8042-9f65e464c506",
   "metadata": {},
   "outputs": [],
   "source": []
  }
 ],
 "metadata": {
  "kernelspec": {
   "display_name": "Python 3 (ipykernel)",
   "language": "python",
   "name": "python3"
  },
  "language_info": {
   "codemirror_mode": {
    "name": "ipython",
    "version": 3
   },
   "file_extension": ".py",
   "mimetype": "text/x-python",
   "name": "python",
   "nbconvert_exporter": "python",
   "pygments_lexer": "ipython3",
   "version": "3.9.13"
  }
 },
 "nbformat": 4,
 "nbformat_minor": 5
}
