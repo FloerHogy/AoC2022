{
 "cells": [
  {
   "cell_type": "code",
   "execution_count": 17,
   "id": "7131739c-f951-4119-bf37-d46a80291fb0",
   "metadata": {},
   "outputs": [
    {
     "name": "stdout",
     "output_type": "stream",
     "text": [
      "(67658, 215)\n"
     ]
    }
   ],
   "source": [
    "#Convertir les datas brutes en liste de liste pour chaque elfe\n",
    "\n",
    "my_file = open(\"datas.txt\", \"r\")\n",
    "  \n",
    "\n",
    "lol = []\n",
    "\n",
    "for line in my_file:\n",
    "\n",
    "  stripped_line = line.strip()\n",
    "\n",
    "  line_list = stripped_line.split()\n",
    "\n",
    "  lol.append(line_list)\n",
    "\n",
    "\n",
    "my_file.close()\n",
    "\n",
    "\n",
    "\n",
    "res = [[]]\n",
    "k=0\n",
    "\n",
    "for i in lol:\n",
    "    if i == []:\n",
    "        res.append([])\n",
    "        k = k+1\n",
    "        \n",
    "    else :\n",
    "        res[k].append(int(i[0]))\n",
    "        \n",
    "#Déterminer l'elfe qui en a le plus et combien\n",
    "\n",
    "def max_elf(l):\n",
    "    c_max=0\n",
    "    k_max=0\n",
    "    k=0\n",
    "    for ll in l:\n",
    "        c= sum(ll)\n",
    "        if c > c_max :\n",
    "            c_max= c\n",
    "            k_max= k\n",
    "        k=k+1\n",
    "    return (c_max,k_max)\n",
    "\n",
    "print(max_elf(res))\n",
    "        \n"
   ]
  },
  {
   "cell_type": "code",
   "execution_count": 19,
   "id": "288f54d9-a948-456e-afaa-edf8bebbf3c6",
   "metadata": {},
   "outputs": [
    {
     "name": "stdout",
     "output_type": "stream",
     "text": [
      "[[67658, 215], [67344, 162], [65156, 220]]\n"
     ]
    }
   ],
   "source": [
    "#Déterminer l'elfe avec le moins de thune parmi ceux déjà enregistrés\n",
    "\n",
    "def min_l(l):\n",
    "    c_min = l[0][0]\n",
    "    k_min = 0\n",
    "    k = 0\n",
    "    for ll in l:\n",
    "        if ll[0] < c_min :\n",
    "            c_min = ll[0]\n",
    "            k_min = k\n",
    "        k = k+1\n",
    "    return ([c_min,k_min])\n",
    "\n",
    "#Trouver les 3 elfes les plus riches\n",
    "\n",
    "def top3_elf(l):\n",
    "    c_max = [[0,0],[0,0],[0,0]]\n",
    "    k=0\n",
    "    for ll in l:\n",
    "        c= sum(ll)\n",
    "        res_int = min_l(c_max)\n",
    "        if c > res_int[0]:\n",
    "            c_max[res_int[1]]= [c,k]\n",
    "        k = k+1\n",
    "    return(c_max)\n",
    "print(top3_elf(res))\n",
    "        "
   ]
  },
  {
   "cell_type": "code",
   "execution_count": 20,
   "id": "f344576e-5a25-49fe-a4f1-e4f53dad14e7",
   "metadata": {},
   "outputs": [
    {
     "name": "stdout",
     "output_type": "stream",
     "text": [
      "200158\n"
     ]
    }
   ],
   "source": [
    "print(67658+67344+65156)"
   ]
  },
  {
   "cell_type": "code",
   "execution_count": null,
   "id": "523451f6-7b45-4a36-bf0a-e650fafb1e24",
   "metadata": {},
   "outputs": [],
   "source": []
  }
 ],
 "metadata": {
  "kernelspec": {
   "display_name": "Python 3 (ipykernel)",
   "language": "python",
   "name": "python3"
  },
  "language_info": {
   "codemirror_mode": {
    "name": "ipython",
    "version": 3
   },
   "file_extension": ".py",
   "mimetype": "text/x-python",
   "name": "python",
   "nbconvert_exporter": "python",
   "pygments_lexer": "ipython3",
   "version": "3.9.13"
  }
 },
 "nbformat": 4,
 "nbformat_minor": 5
}
